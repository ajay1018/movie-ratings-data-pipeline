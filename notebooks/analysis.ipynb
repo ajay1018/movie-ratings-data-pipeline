{
 "cells": [
  {
   "cell_type": "markdown",
   "id": "f652a622",
   "metadata": {},
   "source": [
    "# 🎬 Movie Ratings – EDA\n",
    "This notebook explores the processed dataset."
   ]
  },
  {
   "cell_type": "code",
   "execution_count": null,
   "id": "babee611",
   "metadata": {},
   "outputs": [],
   "source": [
    "import pandas as pd\n",
    "import matplotlib.pyplot as plt\n",
    "df = pd.read_csv('../data/processed/clean_ratings.csv')\n",
    "df.head()"
   ]
  },
  {
   "cell_type": "code",
   "execution_count": null,
   "id": "88f3771c",
   "metadata": {},
   "outputs": [],
   "source": [
    "# Average rating by genre\n",
    "ax = df.groupby('genre')['rating'].mean().sort_values(ascending=False).plot(kind='bar')\n",
    "ax.set_ylabel('Avg Rating'); ax.set_xlabel('Genre');\n",
    "plt.tight_layout()"
   ]
  }
 ],
 "metadata": {},
 "nbformat": 4,
 "nbformat_minor": 5
}
